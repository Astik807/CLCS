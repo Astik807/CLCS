{
 "cells": [
  {
   "cell_type": "code",
   "execution_count": null,
   "id": "fc1d8e2e-79c7-4578-a7c7-0df430000246",
   "metadata": {},
   "outputs": [],
   "source": [
    "# Create a virtual environment\n",
    "python -m venv venv\n"
   ]
  },
  {
   "cell_type": "code",
   "execution_count": null,
   "id": "d009552b-8d2f-44e9-a65f-abca20f0ac83",
   "metadata": {},
   "outputs": [],
   "source": [
    "# Activate the virtual environment\n",
    "# On Windows\n",
    "venv\\Scripts\\activate\n",
    "# On macOS/Linux\n",
    "source venv/bin/activate"
   ]
  },
  {
   "cell_type": "code",
   "execution_count": null,
   "id": "8fa454c9-d368-40b9-8645-b4e536eeeee7",
   "metadata": {},
   "outputs": [],
   "source": [
    "pip install openai"
   ]
  },
  {
   "cell_type": "code",
   "execution_count": null,
   "id": "6c1ccfb6-972c-48b3-b137-903b9cb5dbd5",
   "metadata": {},
   "outputs": [],
   "source": [
    "python customer_support_optimization.py\n"
   ]
  }
 ],
 "metadata": {
  "kernelspec": {
   "display_name": "base",
   "language": "python",
   "name": "base"
  },
  "language_info": {
   "codemirror_mode": {
    "name": "ipython",
    "version": 3
   },
   "file_extension": ".py",
   "mimetype": "text/x-python",
   "name": "python",
   "nbconvert_exporter": "python",
   "pygments_lexer": "ipython3",
   "version": "3.9.16"
  }
 },
 "nbformat": 4,
 "nbformat_minor": 5
}
